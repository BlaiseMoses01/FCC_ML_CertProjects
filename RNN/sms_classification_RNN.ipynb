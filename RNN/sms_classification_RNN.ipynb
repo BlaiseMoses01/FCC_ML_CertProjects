{
  "cells": [
    {
      "cell_type": "code",
      "execution_count": null,
      "metadata": {
        "id": "8RZOuS9LWQvv"
      },
      "outputs": [],
      "source": [
        "# import libraries\n",
        "try:\n",
        "  # %tensorflow_version only exists in Colab.\n",
        "  !pip install tf-nightly\n",
        "except Exception:\n",
        "  pass\n",
        "import tensorflow as tf\n",
        "import pandas as pd\n",
        "from tensorflow import keras\n",
        "from keras.preprocessing import sequence\n",
        "from keras.preprocessing.text import Tokenizer\n",
        "from keras.preprocessing.sequence import pad_sequences\n",
        "!pip install tensorflow-datasets\n",
        "import tensorflow_datasets as tfds\n",
        "import numpy as np\n",
        "import matplotlib.pyplot as plt\n",
        "\n",
        "print(tf.__version__)"
      ]
    },
    {
      "cell_type": "markdown",
      "source": [],
      "metadata": {
        "id": "SSpe5otScSkD"
      }
    },
    {
      "cell_type": "code",
      "execution_count": null,
      "metadata": {
        "id": "lMHwYXHXCar3"
      },
      "outputs": [],
      "source": [
        "# get data files\n",
        "!wget https://cdn.freecodecamp.org/project-data/sms/train-data.tsv\n",
        "!wget https://cdn.freecodecamp.org/project-data/sms/valid-data.tsv\n",
        "\n",
        "train_file_path = \"train-data.tsv\"\n",
        "test_file_path = \"valid-data.tsv\""
      ]
    },
    {
      "cell_type": "code",
      "execution_count": null,
      "metadata": {
        "id": "g_h508FEClxO"
      },
      "outputs": [],
      "source": [
        "#data preparation/pre-processing\n",
        "train_data = pd.read_csv(train_file_path, sep='\\t', header=None, names= ['type', 'message'])\n",
        "test_data = pd.read_csv(test_file_path, sep='\\t', header=None, names=['type','message'])\n",
        "train_data.dropna(inplace=True)\n",
        "test_data.dropna(inplace=True)\n",
        "\n",
        "# encode dataset labels for model\n",
        "all_data = pd.concat([train_data, test_data])\n",
        "all_data['type'], label_mapping = pd.factorize(all_data['type'])\n",
        "train_data['type'] = all_data['type'][:len(train_data)]\n",
        "test_data['type'] = all_data['type'][len(train_data):]\n",
        "\n",
        "# encoding messages\n",
        "token = Tokenizer(num_words = 10000)\n",
        "maxlen = 30\n",
        "token.fit_on_texts(train_data['message'])\n",
        "\n",
        "train_seqs = token.texts_to_sequences(train_data['message'])\n",
        "train_padded_seqs = pad_sequences(train_seqs, maxlen=maxlen, padding='post', truncating='post')\n",
        "test_seqs = token.texts_to_sequences(test_data['message'])\n",
        "test_padded_seqs = pad_sequences(test_seqs, maxlen=maxlen, padding='post', truncating='post')\n",
        "\n",
        "# since training and testing sets are given separate we can reshape data manually\n",
        "\n",
        "train_labels = np.array(train_data['type'].tolist())\n",
        "train_ds = np.array(train_padded_seqs.tolist())\n",
        "test_labels = np.array(test_data['type'].tolist())\n",
        "test_ds = np.array(test_padded_seqs.tolist())\n",
        "\n",
        "print(test_labels)\n",
        "print(test_ds)\n"
      ]
    },
    {
      "cell_type": "code",
      "source": [
        "vocab_size = 100000\n",
        "model = tf.keras.Sequential([\n",
        "    tf.keras.layers.Embedding(vocab_size, 32),\n",
        "    tf.keras.layers.LSTM(32),\n",
        "    tf.keras.layers.Dense(1, activation='sigmoid')\n",
        "])\n",
        "model.summary()"
      ],
      "metadata": {
        "id": "RClbo4LzUr4V"
      },
      "execution_count": null,
      "outputs": []
    },
    {
      "cell_type": "code",
      "execution_count": null,
      "metadata": {
        "id": "zOMKywn4zReN"
      },
      "outputs": [],
      "source": [
        "model.compile(\n",
        "    loss=tf.keras.losses.BinaryCrossentropy(from_logits=False),\n",
        "    optimizer=tf.keras.optimizers.Adam(1e-4),\n",
        "    metrics=['accuracy'],\n",
        ")\n",
        "\n",
        "history = model.fit(\n",
        "    train_ds,\n",
        "    train_labels,\n",
        "    validation_data=(test_ds,test_labels),\n",
        "    validation_steps=30,\n",
        "    epochs=5,\n",
        "    batch_size=32\n",
        ")"
      ]
    },
    {
      "cell_type": "code",
      "source": [
        "test_loss, test_acc = model.evaluate(test_ds,test_labels)\n",
        "print('Test Loss:', test_loss)\n",
        "print('Test Accuracy:', test_acc)\n",
        "# was testing class imbalance to see what error threshold was needed\n",
        "#train_data['type'].value_counts()\n",
        "#test_data['type'].value_counts()"
      ],
      "metadata": {
        "id": "D-cqf9xpu-qv"
      },
      "execution_count": null,
      "outputs": []
    },
    {
      "cell_type": "code",
      "execution_count": null,
      "metadata": {
        "id": "J9tD9yACG6M9"
      },
      "outputs": [],
      "source": [
        "# function to predict messages based on model\n",
        "# (should return list containing prediction and label, ex. [0.008318834938108921, 'ham'])\n",
        "def predict_message(pred_text):\n",
        "  seq = token.texts_to_sequences([pred_text])\n",
        "  padded_seq = pad_sequences(seq, maxlen=maxlen, padding='post', truncating='post')\n",
        "  print(padded_seq)\n",
        "  prediction = model.predict(padded_seq)\n",
        "  print(prediction)\n",
        "  if prediction[0][0] < 0.5:\n",
        "    return [prediction[0][0], 'ham']\n",
        "  return [prediction[0][0], 'spam']\n",
        "\n",
        "pred_text = \"how are you doing today?\"\n",
        "\n",
        "prediction = predict_message(pred_text)\n",
        "print(prediction)"
      ]
    },
    {
      "cell_type": "code",
      "execution_count": null,
      "metadata": {
        "id": "Dxotov85SjsC"
      },
      "outputs": [],
      "source": [
        "# Run this cell to test your function and model. Do not modify contents.\n",
        "def test_predictions():\n",
        "  test_messages = [\"how are you doing today\",\n",
        "                   \"sale today! to stop texts call 98912460324\",\n",
        "                   \"i dont want to go. can we try it a different day? available sat\",\n",
        "                   \"our new mobile video service is live. just install on your phone to start watching.\",\n",
        "                   \"you have won £1000 cash! call to claim your prize.\",\n",
        "                   \"i'll bring it tomorrow. don't forget the milk.\",\n",
        "                   \"wow, is your arm alright. that happened to me one time too\"\n",
        "                  ]\n",
        "\n",
        "  test_answers = [\"ham\", \"spam\", \"ham\", \"spam\", \"spam\", \"ham\", \"ham\"]\n",
        "  passed = True\n",
        "\n",
        "  for msg, ans in zip(test_messages, test_answers):\n",
        "    prediction = predict_message(msg)\n",
        "    if prediction[1] != ans:\n",
        "      passed = False\n",
        "\n",
        "  if passed:\n",
        "    print(\"You passed the challenge. Great job!\")\n",
        "  else:\n",
        "    print(\"You haven't passed yet. Keep trying.\")\n",
        "\n",
        "test_predictions()\n"
      ]
    }
  ],
  "metadata": {
    "colab": {
      "private_outputs": true,
      "provenance": []
    },
    "kernelspec": {
      "display_name": "Python 3",
      "name": "python3"
    },
    "language_info": {}
  },
  "nbformat": 4,
  "nbformat_minor": 0
}