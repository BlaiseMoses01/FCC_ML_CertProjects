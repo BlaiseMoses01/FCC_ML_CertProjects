{
  "cells": [
    {
      "cell_type": "code",
      "execution_count": null,
      "metadata": {
        "id": "1rRo8oNqZ-Rj"
      },
      "outputs": [],
      "source": [
        "# Import libraries. You may or may not use all of these.\n",
        "!pip install -q git+https://github.com/tensorflow/docs\n",
        "import matplotlib.pyplot as plt\n",
        "import numpy as np\n",
        "import pandas as pd\n",
        "try:\n",
        "  # %tensorflow_version only exists in Colab.\n",
        "  %tensorflow_version 2.x\n",
        "except Exception:\n",
        "  pass\n",
        "import tensorflow as tf\n",
        "\n",
        "from tensorflow import keras\n",
        "from tensorflow.keras import layers\n",
        "\n",
        "import tensorflow_docs as tfdocs\n",
        "import tensorflow_docs.plots\n",
        "import tensorflow_docs.modeling"
      ]
    },
    {
      "cell_type": "code",
      "execution_count": null,
      "metadata": {
        "id": "CiX2FI4gZtTt"
      },
      "outputs": [],
      "source": [
        "# Import data\n",
        "!wget https://cdn.freecodecamp.org/project-data/health-costs/insurance.csv\n",
        "dataset = pd.read_csv('insurance.csv')\n",
        "dataset.tail()"
      ]
    },
    {
      "cell_type": "code",
      "execution_count": null,
      "metadata": {
        "id": "LcopvQh3X-kX"
      },
      "outputs": [],
      "source": [
        "#solution written by Blaise Moses for FreeCodeCamp Machine Learning with Python certification project\n",
        "\n",
        "dataset.isna().sum() # test to make sure no null values in the dataset that need to be cleaned up\n",
        "print(dataset.head())\n",
        "\n",
        "CATEGORICAL=['sex', 'smoker', 'region']\n",
        "NUMERIC = ['age', 'bmi', 'children']\n",
        "\n",
        "train_dataset = dataset.sample(frac=0.8, random_state=0)\n",
        "test_dataset = dataset.drop(train_dataset.index)\n",
        "\n",
        "train_dataset = pd.get_dummies(train_dataset, columns=CATEGORICAL)\n",
        "test_dataset = pd.get_dummies(test_dataset,columns=CATEGORICAL)\n",
        "\n",
        "\n",
        "train_dataset = train_dataset.astype(np.float32)\n",
        "test_dataset = test_dataset.astype(np.float32)\n",
        "\n",
        "#sns.pairplot(train_dataset, y_vars = 'expenses', x_vars=['sex_male', 'sex_female','smoker_yes', 'smoker_no','age','bmi','children', 'region_northeast', 'region_northwest','region_southeast','region_southwest'], diag_kind='kde')\n",
        "# after plotting pairwise relationships, it seems like the age, bmi , and smoking status seem to have the most linear relationships with what a person's expense will be\n",
        "# region also seems to play a role but the south and the north seem to show the same trend regardless of east or west, so I will include one of each to account for this\n",
        "\n",
        "train_labels = train_dataset.pop('expenses')\n",
        "test_labels = test_dataset.pop('expenses')\n",
        "\n",
        "#train_dataset = train_dataset[['age','bmi','smoker_yes','smoker_no','region_southeast', 'region_northeast', 'region_southwest', 'region_northwest']]\n",
        "#test_dataset = test_dataset[['age','bmi','smoker_yes','smoker_no','region_southeast', 'region_northeast', 'region_southwest', 'region_northwest']]\n",
        "# experimented with what values to include but model performs better with full dataset so clearly at least some correlation in expense and all features, thus\n",
        "# using full datasets for final product.\n",
        "\n",
        "#normalizing the dataset to remove bias of larger valued labels in training, made a huge improvement in convergence speed\n",
        "normalizer = layers.Normalization()\n",
        "normalizer.adapt(test_dataset)\n",
        "\n",
        "#final model , trains in 22ish seconds and has a mae just under 3000(2800ish)\n",
        "model = tf.keras.Sequential([\n",
        "    normalizer,\n",
        "    layers.Dense(128, activation='relu'),\n",
        "    layers.Dropout(0.2),\n",
        "    layers.Dense(64, activation='relu', kernel_regularizer=tf.keras.regularizers.l2(0.001)),\n",
        "    layers.Dropout(0.2),\n",
        "    layers.Dense(32, activation='relu', kernel_regularizer=tf.keras.regularizers.l2(0.001)),\n",
        "    #layers.Dropout(0.2),\n",
        "    #layers.Dense(16, activation='relu', kernel_regularizer = tf.keras.regularizers.l2(0.001)),\n",
        "    #layers.Dropout(0.2),\n",
        "    # layers.Dense(8, activation='relu', kernel_regularizer = tf.keras.regularizers.l2(0.001)),\n",
        "    # layers.Dropout(0.2),\n",
        "    # layers.Dense(4, activation='relu', kernel_regularizer = tf.keras.regularizers.l2(0.001)),\n",
        "    # layers.Dropout(0.2), experimented with different layer quantities, too many hurts performance, so weened off.\n",
        "    # normalized dataset requires far less layering than standard\n",
        "    layers.Dense(1)\n",
        "])\n",
        "model.compile(optimizer=tf.keras.optimizers.Adam(learning_rate=0.005),\n",
        "              loss='mae',\n",
        "              metrics=['mae', 'mse'])\n",
        "\n",
        "model.fit(train_dataset, train_labels, epochs=30, batch_size=5, validation_split=0.2, verbose=2)\n"
      ]
    },
    {
      "cell_type": "markdown",
      "source": [],
      "metadata": {
        "id": "TiQbYJBXK84s"
      }
    },
    {
      "cell_type": "code",
      "execution_count": null,
      "metadata": {
        "id": "Xe7RXH3N3CWU"
      },
      "outputs": [],
      "source": [
        "# RUN THIS CELL TO TEST YOUR MODEL. DO NOT MODIFY CONTENTS.\n",
        "# Test model by checking how well the model generalizes using the test set.\n",
        "loss, mae, mse = model.evaluate(test_dataset, test_labels, verbose=2)\n",
        "print(\"Testing set Mean Abs Error: {:5.2f} expenses\".format(mae))\n",
        "\n",
        "if mae < 3500:\n",
        "  print(\"You passed the challenge. Great job!\")\n",
        "else:\n",
        "  print(\"The Mean Abs Error must be less than 3500. Keep trying.\")\n",
        "\n",
        "# Plot predictions.\n",
        "test_predictions = model.predict(test_dataset).flatten()\n",
        "\n",
        "a = plt.axes(aspect='equal')\n",
        "plt.scatter(test_labels, test_predictions)\n",
        "plt.xlabel('True values (expenses)')\n",
        "plt.ylabel('Predictions (expenses)')\n",
        "lims = [0, 50000]\n",
        "plt.xlim(lims)\n",
        "plt.ylim(lims)\n",
        "_ = plt.plot(lims,lims)\n"
      ]
    }
  ],
  "metadata": {
    "colab": {
      "private_outputs": true,
      "provenance": []
    },
    "kernelspec": {
      "display_name": "Python 3",
      "name": "python3"
    }
  },
  "nbformat": 4,
  "nbformat_minor": 0
}